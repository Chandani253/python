{
 "cells": [
  {
   "cell_type": "code",
   "execution_count": 6,
   "id": "be441d91-2e0f-4067-b2b3-0b612e05daeb",
   "metadata": {},
   "outputs": [
    {
     "name": "stdin",
     "output_type": "stream",
     "text": [
      "Enter lower limit :  1\n",
      "Enter upper limit :  30\n"
     ]
    },
    {
     "name": "stdout",
     "output_type": "stream",
     "text": [
      "4 6 8 9 10 12 14 15 16 18 20 21 22 24 25 26 27 28 30 "
     ]
    }
   ],
   "source": [
    "#Write a python program to Display all Numbers within a range except the Prime numbers\n",
    "\n",
    "a = int(input(\"Enter lower limit : \"))\n",
    "b = int(input(\"Enter upper limit : \"))\n",
    "\n",
    "for number in range(a,b+1):\n",
    "    count = 0\n",
    "    \n",
    "    for divider in range(2,number//2+1):\n",
    "        if number%divider == 0:\n",
    "            count+=1\n",
    "    if count >= 1:\n",
    "        print(number,end=\" \")\n",
    "        \n"
   ]
  },
  {
   "cell_type": "code",
   "execution_count": 25,
   "id": "ff3ac6be-a955-4444-b017-46eb4308d95e",
   "metadata": {},
   "outputs": [
    {
     "name": "stdout",
     "output_type": "stream",
     "text": [
      "The sum of numbers from 1 to 100 is: 5050\n"
     ]
    }
   ],
   "source": [
    "#Use a for loop to calculate the sum of all numbers from 1 to 100.\n",
    "\n",
    "total_sum = 0\n",
    "\n",
    "for num in range(1, 101):\n",
    "  total_sum += num\n",
    "\n",
    "print(f\"The sum of numbers from 1 to 100 is: {total_sum}\")\n"
   ]
  },
  {
   "cell_type": "code",
   "execution_count": 35,
   "id": "2295bdfa-d1a9-47f3-ac15-60b1430830f7",
   "metadata": {},
   "outputs": [
    {
     "name": "stdout",
     "output_type": "stream",
     "text": [
      "The sum of odd numbers from 1 to 100 is: 2500\n"
     ]
    }
   ],
   "source": [
    "#Use a for loop to calculate the sum of all odd numbers from 1 to 100.\n",
    "n = 0\n",
    "\n",
    "for i in range(1, 101, 2):\n",
    "    n += i\n",
    "\n",
    "print(f\"The sum of odd numbers from 1 to 100 is: {n}\")\n"
   ]
  },
  {
   "cell_type": "code",
   "execution_count": 29,
   "id": "454b3708-e560-48ac-852d-74a2e4ef57ae",
   "metadata": {},
   "outputs": [
    {
     "name": "stdout",
     "output_type": "stream",
     "text": [
      "The maximum number in the list is: 22\n"
     ]
    }
   ],
   "source": [
    "#Write a for loop to find the maximum number in a list.\n",
    "def find_max(num_list):\n",
    "  \n",
    "  if not num_list: \n",
    "    return None\n",
    "\n",
    " \n",
    "  max_num = num_list[0]\n",
    "\n",
    "\n",
    "  for num in num_list[1:]:\n",
    "    if num > max_num:\n",
    "      max_num = num\n",
    "\n",
    "  return max_num\n",
    "\n",
    "\n",
    "numbers = [5, 10, 3, 1, 22]\n",
    "largest_number = find_max(numbers)\n",
    "\n",
    "if largest_number is not None:\n",
    "  print(f\"The maximum number in the list is: {largest_number}\")\n",
    "else:\n",
    "  print(\"The list is empty.\")\n"
   ]
  },
  {
   "cell_type": "code",
   "execution_count": 40,
   "id": "5180f44b-260e-4f4b-ae63-bb9fefe81f90",
   "metadata": {},
   "outputs": [
    {
     "name": "stdin",
     "output_type": "stream",
     "text": [
      "Enter a number :  5\n"
     ]
    },
    {
     "name": "stdout",
     "output_type": "stream",
     "text": [
      "Factorial of 5 is 120\n"
     ]
    }
   ],
   "source": [
    "#Use a for loop to calculate the factorial of a given number\n",
    "\n",
    "n = int(input(\"Enter a number : \"))\n",
    "fact = 1\n",
    "for i in range(1,n+1):\n",
    "    fact = fact * i\n",
    "\n",
    "print(\"Factorial of\",n,\"is\",fact)"
   ]
  },
  {
   "cell_type": "code",
   "execution_count": 7,
   "id": "aa8c5866-b927-43a8-acf9-62fce5b0065d",
   "metadata": {},
   "outputs": [
    {
     "name": "stdin",
     "output_type": "stream",
     "text": [
      "please enter your name :  shreyas\n"
     ]
    },
    {
     "name": "stdout",
     "output_type": "stream",
     "text": [
      "there are 2 vowels in word  \n"
     ]
    }
   ],
   "source": [
    "#Create a for loop to iterate over a string and count the number of vowels\n",
    "word = str(input(\"please enter your name : \"))\n",
    "count = 0\n",
    "vow = [\"a\",\"A\",\"e\",\"E\",\"i\",\"I\",\"o\",\"O\",\"u\",\"U\"]\n",
    "for i in word:\n",
    "    if i in vow:\n",
    "        count +=1\n",
    "print(\"there are\",count,\"vowels\",\"in word\",\" \")\n"
   ]
  },
  {
   "cell_type": "code",
   "execution_count": 56,
   "id": "36533356-2cf5-4d76-b1af-8b09b4f98147",
   "metadata": {},
   "outputs": [
    {
     "name": "stdout",
     "output_type": "stream",
     "text": [
      "[121, 143, 165, 187, 209, 231, 253, 275, 297, 319, 341, 363, 385, 407, 429, 451, 473, 495]\n"
     ]
    }
   ],
   "source": [
    "#Write a program to display all the numbers which are divisible by 11 but not by 2 between 100 and 500.\n",
    "result = []\n",
    "for i in range(100, 500): \n",
    "    if i % 11 == 0 and i % 2 != 0: \n",
    "        result.append(i) \n",
    " \n",
    "print(result)\n"
   ]
  },
  {
   "cell_type": "code",
   "execution_count": 38,
   "id": "07b1700b-1c5a-4d08-ba1e-dddd2fe19a65",
   "metadata": {},
   "outputs": [
    {
     "name": "stdout",
     "output_type": "stream",
     "text": [
      "The common elements are :  [1, 4]\n"
     ]
    }
   ],
   "source": [
    "#Use a for loop to find the common elements between two lists.\n",
    "list1 = [1, 2, 3, 4, 6,10]\n",
    "list2 = [1, 4, 8, 22]\n",
    "list3 = []\n",
    "\n",
    "for i in list1:\n",
    "    if i in list2:\n",
    "        list3.append(i)\n",
    "\n",
    "print(\"The common elements are : \",list3)\n",
    "\n"
   ]
  },
  {
   "cell_type": "code",
   "execution_count": 42,
   "id": "f46a4c4b-34c9-4789-af44-29ccacd182ea",
   "metadata": {},
   "outputs": [
    {
     "name": "stdout",
     "output_type": "stream",
     "text": [
      "Key: name, Value: Chandni\n",
      "Key: age, Value: 27\n",
      "Key: city, Value: Vadodara\n"
     ]
    }
   ],
   "source": [
    "#Create a for loop to iterate over a dictionary and print the keys and values\n",
    "my_dict = {\"name\": \"Chandni\", \"age\": 27, \"city\": \"Vadodara\"}\n",
    "\n",
    "for key, value in my_dict.items():\n",
    "  print(f\"Key: {key}, Value: {value}\")\n"
   ]
  },
  {
   "cell_type": "code",
   "execution_count": 37,
   "id": "aa5222e5-04ba-412a-a798-9c88f8b7bf91",
   "metadata": {},
   "outputs": [
    {
     "name": "stdin",
     "output_type": "stream",
     "text": [
      "Enter the range :  10\n"
     ]
    },
    {
     "name": "stdout",
     "output_type": "stream",
     "text": [
      "2\n",
      "4\n",
      "6\n",
      "8\n",
      "10\n",
      "12\n",
      "14\n",
      "16\n",
      "18\n",
      "20\n"
     ]
    }
   ],
   "source": [
    "#Write a for loop to print the first 10 even numbers\n",
    "n = int(input(\"Enter the range : \"))\n",
    "for i in range(n):\n",
    "  print(2 * i + 2)\n"
   ]
  },
  {
   "cell_type": "code",
   "execution_count": 65,
   "id": "4f0dee7b-658a-4fed-8449-479c3dc97a8f",
   "metadata": {},
   "outputs": [
    {
     "name": "stdout",
     "output_type": "stream",
     "text": [
      "chandni\n",
      "shreyas\n",
      "patel\n"
     ]
    }
   ],
   "source": [
    "#Create a for loop to iterate over a list and print each element\n",
    "a = [\"chandni\", \"shreyas\", \"patel\"]\n",
    "for i in list(a):\n",
    "    print(i)\n",
    "\n"
   ]
  },
  {
   "cell_type": "code",
   "execution_count": 8,
   "id": "f892e0dd-7f49-4688-bbaf-14b76dae25b2",
   "metadata": {},
   "outputs": [
    {
     "name": "stdout",
     "output_type": "stream",
     "text": [
      "[1, 2, 3, 4, 7, 8, 99, 5]\n"
     ]
    }
   ],
   "source": [
    "#Use a for loop to remove duplicates from a list\n",
    "list1 = [1, 2, 3, 4, 3, 3, 4, 7, 8, 99, 5]\n",
    "list2 = []\n",
    "  \n",
    "for item in list1:\n",
    "    if item not in list2:\n",
    "      list2.append(item)\n",
    "\n",
    "print(list2)"
   ]
  },
  {
   "cell_type": "code",
   "execution_count": 7,
   "id": "9d891653-2240-4abb-a49a-1a6e2c3613e7",
   "metadata": {},
   "outputs": [
    {
     "name": "stdout",
     "output_type": "stream",
     "text": [
      "The sum of positive numbers is: 29.05\n"
     ]
    }
   ],
   "source": [
    "#Create a for loop to iterate over a list of numbers and find the sum of all positive numbers.\n",
    "l = [1, 2, 3, -5, 0.05, 23]\n",
    "sum = 0\n",
    "for i in l:\n",
    "    if i > 0:\n",
    "        sum += i\n",
    "\n",
    "print(f\"The sum of positive numbers is: {sum}\")\n"
   ]
  },
  {
   "cell_type": "code",
   "execution_count": 9,
   "id": "7f66d819-046a-4db4-8d1f-4721d6a50e26",
   "metadata": {},
   "outputs": [
    {
     "name": "stdout",
     "output_type": "stream",
     "text": [
      "    *\n",
      "   ***\n",
      "  *****\n",
      " *******\n",
      "*********\n"
     ]
    }
   ],
   "source": [
    "#Write a for loop to print a pattern of stars in the shape of a triangle.\n",
    "n = 5\n",
    "\n",
    "for i in range(1, n + 1):\n",
    "        for j in range(n - i):\n",
    "            print(\" \", end=\"\")\n",
    "        for k in range(1, 2*i):\n",
    "            print(\"*\", end=\"\")\n",
    "        print(\"\")\n"
   ]
  },
  {
   "cell_type": "code",
   "execution_count": 2,
   "id": "8c2401b5-0a48-45b4-9cd5-b1f621902e28",
   "metadata": {},
   "outputs": [
    {
     "name": "stdin",
     "output_type": "stream",
     "text": [
      "Enter the size of the square:  5\n"
     ]
    },
    {
     "name": "stdout",
     "output_type": "stream",
     "text": [
      "* * * * * \n",
      "*       * \n",
      "*   c   * \n",
      "*       * \n",
      "* * * * * \n"
     ]
    }
   ],
   "source": [
    "#Write a for loop to print a pattern of stars in the shape of a square and write your initial latter in square.\n",
    "\n",
    "a = int(input(\"Enter the size of the square: \"))\n",
    "for i in range(a):\n",
    "  for j in range(a):\n",
    "    if i == 0 or i == a - 1 or j == 0 or j == a - 1:\n",
    "      print(\"*\", end=\" \")\n",
    "    elif i == 2 and j == 2:\n",
    "        print(\"c\", end=\" \") \n",
    " #elif (a in (1,2,3,4)) and (col in (0,4)):\n",
    "           #print(\"*\", end=\" \")\n",
    "    else:\n",
    "      print(\" \", end=\" \")\n",
    "  \n",
    "  print()"
   ]
  },
  {
   "cell_type": "code",
   "execution_count": null,
   "id": "77fcb585-0fcc-4fc5-86c8-613899852cbb",
   "metadata": {},
   "outputs": [],
   "source": []
  }
 ],
 "metadata": {
  "kernelspec": {
   "display_name": "Python 3 (ipykernel)",
   "language": "python",
   "name": "python3"
  },
  "language_info": {
   "codemirror_mode": {
    "name": "ipython",
    "version": 3
   },
   "file_extension": ".py",
   "mimetype": "text/x-python",
   "name": "python",
   "nbconvert_exporter": "python",
   "pygments_lexer": "ipython3",
   "version": "3.11.7"
  }
 },
 "nbformat": 4,
 "nbformat_minor": 5
}

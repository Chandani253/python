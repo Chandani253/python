{
 "cells": [
  {
   "cell_type": "code",
   "execution_count": 9,
   "id": "b635e432-d100-4c3b-ae35-b28aad2a0942",
   "metadata": {},
   "outputs": [
    {
     "name": "stdout",
     "output_type": "stream",
     "text": [
      "    *  *  *     *        *           *  *        *           *     *  *  *        *           *     *  *  *  *  * \n",
      " *              *        *        *        *     *  *        *     *        *     *  *        *           *       \n",
      " *              *  *  *  *        *  *  *  *     *     *     *     *        *     *     *     *           *       \n",
      " *              *        *        *        *     *        *  *     *        *     *        *  *           *       \n",
      "    *  *  *     *        *        *        *     *           *     *  *  *        *           *     *  *  *  *  * \n"
     ]
    }
   ],
   "source": [
    "for row in range(5):\n",
    "    for col in range(38):\n",
    "        if (col==0 and (row==1 or row==2 or row==3)) or (col==1 and (row==0 or row==4)) or (col==2 and (row==0 or row==4)) or (col==3 and (row==0 or row==4)):\n",
    "            print(\" * \", end=\"\")\n",
    "        elif col==5 or col==8 or (row==2 and (col>5 and col<8)):\n",
    "            print(\" * \", end=\"\")\n",
    "        elif ((col==11 or col==14) and row>0) or ((row==0 or row==2) and (col==12 or col==13)):\n",
    "            print(\" * \", end=\"\")\n",
    "        elif col==16 or col==20 or (row==1 and (col>16 and col<18)) or (row==2 and (col>17 and col<19)) or (row==3 and (col>18 and col<20)):\n",
    "            print(\" * \", end=\"\")\n",
    "        elif col==22 or (col==25 and (row>0 and row<4)) or (col==23 and (row<1 or row>3)) or (col==24 and (row<1 or row>3)):\n",
    "            print(\" * \", end=\"\")\n",
    "        elif col==27 or col==31 or (row==1 and (col>27 and col<29)) or (row==2 and (col>28 and col<30)) or (row==3 and (col>29 and col<31)):\n",
    "            print(\" * \", end=\"\")\n",
    "        elif col==35 or (col==33 and (row<1 or row>3)) or (col==34 and (row<1 or row>3)) or (col==36 and (row<1 or row>3)) or (col==37 and (row<1 or row>3)):\n",
    "            print(\" * \", end=\"\")\n",
    "        else:\n",
    "            print(\"   \", end=\"\")\n",
    "    print()"
   ]
  },
  {
   "cell_type": "code",
   "execution_count": null,
   "id": "01824284-2b01-4477-b57b-89b3d93f0e8a",
   "metadata": {},
   "outputs": [],
   "source": [
    "#bit#mam"
   ]
  }
 ],
 "metadata": {
  "kernelspec": {
   "display_name": "Python 3 (ipykernel)",
   "language": "python",
   "name": "python3"
  },
  "language_info": {
   "codemirror_mode": {
    "name": "ipython",
    "version": 3
   },
   "file_extension": ".py",
   "mimetype": "text/x-python",
   "name": "python",
   "nbconvert_exporter": "python",
   "pygments_lexer": "ipython3",
   "version": "3.11.7"
  }
 },
 "nbformat": 4,
 "nbformat_minor": 5
}
